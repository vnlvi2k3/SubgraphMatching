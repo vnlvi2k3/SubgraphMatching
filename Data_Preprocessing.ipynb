{
 "cells": [
  {
   "cell_type": "code",
   "execution_count": 1,
   "id": "66a7562d",
   "metadata": {},
   "outputs": [
    {
     "name": "stdout",
     "output_type": "stream",
     "text": [
      "['0', '1', '10', '11', '12']\n"
     ]
    }
   ],
   "source": [
    "# Create sample train and test keys\n",
    "data_name = \"tiny\"\n",
    "data_dir = \"data_synthesis/datasets/%s\" % data_name\n",
    "data_proccessed_dir = \"data_processed/%s\" % data_name\n",
    "\n",
    "import os\n",
    "\n",
    "list_source = os.listdir(data_dir)\n",
    "list_source = list(\n",
    "    filter(lambda x: os.path.isdir(os.path.join(data_dir, x)), list_source)\n",
    ")\n",
    "\n",
    "print(list_source[:5])"
   ]
  },
  {
   "cell_type": "code",
   "execution_count": 2,
   "id": "46771113",
   "metadata": {},
   "outputs": [],
   "source": [
    "import networkx as nx\n",
    "\n",
    "\n",
    "def read_graphs(database_file_name):\n",
    "    graphs = dict()\n",
    "    max_size = 0\n",
    "    with open(database_file_name, \"r\", encoding=\"utf-8\") as f:\n",
    "        lines = [line.strip() for line in f.readlines()]\n",
    "        tgraph, graph_cnt = None, 0\n",
    "        graph_size = 0\n",
    "        for i, line in enumerate(lines):\n",
    "            cols = line.split(\" \")\n",
    "            if cols[0] == \"t\":\n",
    "                if tgraph is not None:\n",
    "                    graphs[graph_cnt] = tgraph\n",
    "                    if max_size < graph_size:\n",
    "                        max_size = graph_size\n",
    "                    graph_size = 0\n",
    "                    tgraph = None\n",
    "                if cols[-1] == \"-1\":\n",
    "                    break\n",
    "\n",
    "                tgraph = nx.Graph()\n",
    "                graph_cnt = int(cols[2])\n",
    "\n",
    "            elif cols[0] == \"v\":\n",
    "                coord = np.array([float(cols[3]), float(cols[4]), float(cols[5])])\n",
    "                tgraph.add_node(int(cols[1]), label=int(cols[2]), coords=coord)\n",
    "                graph_size += 1\n",
    "\n",
    "            elif cols[0] == \"e\":\n",
    "                tgraph.add_edge(int(cols[1]), int(cols[2]), label=int(cols[3]))\n",
    "\n",
    "        # adapt to input files that do not end with 't # -1'\n",
    "        if tgraph is not None:\n",
    "            graphs[graph_cnt] = tgraph\n",
    "            if max_size < graph_size:\n",
    "                max_size = graph_size\n",
    "\n",
    "    return graphs\n",
    "\n",
    "\n",
    "def load_graph_data(data_dir, source_id):\n",
    "    source_graph = read_graphs(\"%s/%s/source.lg\" % (data_dir, source_id))[\n",
    "        int(source_id)\n",
    "    ]\n",
    "    iso_subgraphs = read_graphs(\"%s/%s/iso_subgraphs.lg\" % (data_dir, source_id))\n",
    "    noniso_subgraphs = read_graphs(\"%s/%s/noniso_subgraphs.lg\" % (data_dir, source_id))\n",
    "\n",
    "    return source_graph, iso_subgraphs, noniso_subgraphs"
   ]
  },
  {
   "cell_type": "code",
   "execution_count": 3,
   "id": "324daae6",
   "metadata": {},
   "outputs": [
    {
     "name": "stderr",
     "output_type": "stream",
     "text": [
      "100%|████████████████████████████████████████████████████████████████████████████████| 100/100 [00:11<00:00,  8.48it/s]\n"
     ]
    }
   ],
   "source": [
    "import pickle\n",
    "from tqdm import tqdm\n",
    "\n",
    "\n",
    "# Load and save\n",
    "def load_dataset(data_dir, list_source, save_dir):\n",
    "    for source_id in tqdm(list_source):\n",
    "        graph, iso_subgraphs, noniso_subgraphs = load_graph_data(data_dir, source_id)\n",
    "\n",
    "        for key, data in iso_subgraphs.items():\n",
    "            with open(\"%s/%s_%d_iso\" % (save_dir, source_id, key), \"wb\") as f:\n",
    "                pickle.dump([data, graph], f)\n",
    "\n",
    "        for key, data in noniso_subgraphs.items():\n",
    "            with open(\"%s/%s_%d_non\" % (save_dir, source_id, key), \"wb\") as f:\n",
    "                pickle.dump([data, graph], f)\n",
    "\n",
    "\n",
    "# Load data\n",
    "if not os.path.exists(data_proccessed_dir):\n",
    "    os.mkdir(data_proccessed_dir)\n",
    "\n",
    "load_dataset(data_dir, list_source, data_proccessed_dir)"
   ]
  },
  {
   "cell_type": "code",
   "execution_count": 4,
   "id": "2da5c288",
   "metadata": {},
   "outputs": [
    {
     "name": "stdout",
     "output_type": "stream",
     "text": [
      "['10_0_iso', '10_0_non', '10_10_iso', '10_10_non', '10_11_iso']\n",
      "['0_0_iso', '0_0_non', '0_10_iso', '0_10_non', '0_11_iso']\n"
     ]
    }
   ],
   "source": [
    "# Split train test\n",
    "from sklearn.model_selection import train_test_split\n",
    "\n",
    "train_source, test_source = train_test_split(\n",
    "    list_source, test_size=0.2, random_state=42\n",
    ")\n",
    "valid_keys = os.listdir(data_proccessed_dir)\n",
    "\n",
    "train_keys = [k for k in valid_keys if k.split(\"_\")[0] in train_source]\n",
    "test_keys = [k for k in valid_keys if k.split(\"_\")[0] in test_source]\n",
    "\n",
    "print(train_keys[:5])\n",
    "print(test_keys[:5])\n",
    "\n",
    "# Notice that key which has \"iso\" is isomorphism, otherwise non-isomorphism"
   ]
  },
  {
   "cell_type": "code",
   "execution_count": 5,
   "id": "35b8e5b6",
   "metadata": {},
   "outputs": [],
   "source": [
    "# Save train and test keys\n",
    "import pickle\n",
    "\n",
    "with open(\"%s/train_keys.pkl\" % data_proccessed_dir, \"wb\") as f:\n",
    "    pickle.dump(train_keys, f)\n",
    "\n",
    "with open(\"%s/test_keys.pkl\" % data_proccessed_dir, \"wb\") as f:\n",
    "    pickle.dump(test_keys, f)"
   ]
  }
 ],
 "metadata": {
  "kernelspec": {
   "display_name": "Python 3 (ipykernel)",
   "language": "python",
   "name": "python3"
  },
  "language_info": {
   "codemirror_mode": {
    "name": "ipython",
    "version": 3
   },
   "file_extension": ".py",
   "mimetype": "text/x-python",
   "name": "python",
   "nbconvert_exporter": "python",
   "pygments_lexer": "ipython3",
   "version": "3.10.11"
  }
 },
 "nbformat": 4,
 "nbformat_minor": 5
}
